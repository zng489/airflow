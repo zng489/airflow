{
 "cells": [
  {
   "cell_type": "code",
   "execution_count": 1,
   "metadata": {},
   "outputs": [],
   "source": [
    "#!pip install mysql-connector-python\n",
    "import mysql.connector"
   ]
  },
  {
   "cell_type": "code",
   "execution_count": 19,
   "metadata": {},
   "outputs": [
    {
     "name": "stdout",
     "output_type": "stream",
     "text": [
      "Connected to MySQL database\n"
     ]
    }
   ],
   "source": [
    "import mysql.connector\n",
    "\n",
    "# Establishing the connection\n",
    "try:\n",
    "    connection = mysql.connector.connect(\n",
    "        host=\"localhost\",\n",
    "        port=\"3308\",\n",
    "        user=\"root\",\n",
    "        password=\"helloworld\",\n",
    "        database=\"testdb\"\n",
    "    )\n",
    "    if connection.is_connected():\n",
    "        print(\"Connected to MySQL database\")\n",
    "\n",
    "    # Perform operations\n",
    "\n",
    "except mysql.connector.Error as e:\n",
    "    print(\"Error while connecting to MySQL\", e)"
   ]
  },
  {
   "cell_type": "code",
   "execution_count": 3,
   "metadata": {},
   "outputs": [],
   "source": [
    "import psycopg2"
   ]
  },
  {
   "cell_type": "code",
   "execution_count": 8,
   "metadata": {},
   "outputs": [
    {
     "name": "stdout",
     "output_type": "stream",
     "text": [
      "Connected to the database!\n"
     ]
    }
   ],
   "source": [
    "import psycopg2\n",
    "\n",
    "# Establish connection parameters\n",
    "dbname = \"postgres\"\n",
    "user = \"postgres\"\n",
    "password = \"123\"\n",
    "host = \"localhost\"  # Typically 'localhost' if the database is running on your local machine\n",
    "port = \"5433\"  # Typically 5432\n",
    "\n",
    "# Establish connection\n",
    "connection = psycopg2.connect(\n",
    "    dbname=dbname,\n",
    "    user=user,\n",
    "    password=password,\n",
    "    host=host,\n",
    "    port=port\n",
    ")\n",
    "cursor = connection.cursor()\n",
    "print(\"Connected to the database!\")"
   ]
  },
  {
   "cell_type": "code",
   "execution_count": null,
   "metadata": {},
   "outputs": [],
   "source": [
    "import psycopg2\n",
    "\n",
    "# Establish connection parameters\n",
    "dbname = \"postgres\"\n",
    "user = \"postgres\"\n",
    "password = \"123\"\n",
    "host = \"localhostt\"  # Typically 'localhost' if the database is running on your local machine\n",
    "port = \"5433\"  # Typically 5432\n",
    "\n",
    "# Establish connection\n",
    "connection = psycopg2.connect(\n",
    "    dbname=dbname,\n",
    "    user=user,\n",
    "    password=password,\n",
    "    host=host,\n",
    "    port=port\n",
    ")\n",
    "cursor = connection.cursor()\n",
    "print(\"Connected to the database!\")\n",
    "\n",
    "# Execute a sample query\n",
    "cursor.execute(\"SELECT version();\")\n",
    "db_version = cursor.fetchone()\n",
    "print(\"PostgreSQL database version:\", db_version)\n",
    "\n",
    "# Don't forget to close the cursor and connection when you're done\n",
    "cursor.close()\n",
    "connection.close()\n",
    "print(\"Connection closed.\")"
   ]
  },
  {
   "cell_type": "code",
   "execution_count": null,
   "metadata": {},
   "outputs": [],
   "source": [
    "import mysql.connector\n",
    "\n",
    "# Establishing the connection\n",
    "try:\n",
    "    connection = mysql.connector.connect(\n",
    "        host=\"your_host\",\n",
    "        user=\"your_username\",\n",
    "        password=\"your_password\",\n",
    "        database=\"your_database\"\n",
    "    )\n",
    "    if connection.is_connected():\n",
    "        print(\"Connected to MySQL database\")\n",
    "\n",
    "    # Perform operations\n",
    "\n",
    "except mysql.connector.Error as e:\n",
    "    print(\"Error while connecting to MySQL\", e)\n",
    "\n",
    "# Closing the connection\n",
    "finally:\n",
    "    if connection.is_connected():\n",
    "        cursor.close()\n",
    "        connection.close()\n",
    "        print(\"MySQL connection is closed\")\n"
   ]
  }
 ],
 "metadata": {
  "kernelspec": {
   "display_name": "great_expectations",
   "language": "python",
   "name": "python3"
  },
  "language_info": {
   "codemirror_mode": {
    "name": "ipython",
    "version": 3
   },
   "file_extension": ".py",
   "mimetype": "text/x-python",
   "name": "python",
   "nbconvert_exporter": "python",
   "pygments_lexer": "ipython3",
   "version": "3.8.18"
  }
 },
 "nbformat": 4,
 "nbformat_minor": 2
}
